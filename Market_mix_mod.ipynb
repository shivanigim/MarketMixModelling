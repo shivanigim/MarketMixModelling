{
 "cells": [
  {
   "cell_type": "code",
   "execution_count": 1,
   "metadata": {},
   "outputs": [],
   "source": [
    "import numpy as np"
   ]
  },
  {
   "cell_type": "code",
   "execution_count": 23,
   "metadata": {},
   "outputs": [],
   "source": [
    "%matplotlib inline \n",
    "import matplotlib.pyplot as plt\n",
    "import pandas as pd\n",
    "import sklearn"
   ]
  },
  {
   "cell_type": "code",
   "execution_count": 24,
   "metadata": {},
   "outputs": [
    {
     "name": "stdout",
     "output_type": "stream",
     "text": [
      "Requirement already satisfied: scikit-learn in c:\\programdata\\anaconda3\\lib\\site-packages (0.23.1)\n",
      "Requirement already satisfied: numpy>=1.13.3 in c:\\users\\lenovo\\appdata\\roaming\\python\\python38\\site-packages (from scikit-learn) (1.19.5)\n",
      "Requirement already satisfied: scipy>=0.19.1 in c:\\programdata\\anaconda3\\lib\\site-packages (from scikit-learn) (1.5.0)\n",
      "Requirement already satisfied: joblib>=0.11 in c:\\programdata\\anaconda3\\lib\\site-packages (from scikit-learn) (0.16.0)\n",
      "Requirement already satisfied: threadpoolctl>=2.0.0 in c:\\programdata\\anaconda3\\lib\\site-packages (from scikit-learn) (2.1.0)\n",
      "Note: you may need to restart the kernel to use updated packages.\n"
     ]
    }
   ],
   "source": [
    "pip install scikit-learn\n"
   ]
  },
  {
   "cell_type": "code",
   "execution_count": 25,
   "metadata": {},
   "outputs": [],
   "source": [
    "#pwd"
   ]
  },
  {
   "cell_type": "code",
   "execution_count": 62,
   "metadata": {},
   "outputs": [
    {
     "data": {
      "text/html": [
       "<div>\n",
       "<style scoped>\n",
       "    .dataframe tbody tr th:only-of-type {\n",
       "        vertical-align: middle;\n",
       "    }\n",
       "\n",
       "    .dataframe tbody tr th {\n",
       "        vertical-align: top;\n",
       "    }\n",
       "\n",
       "    .dataframe thead th {\n",
       "        text-align: right;\n",
       "    }\n",
       "</style>\n",
       "<table border=\"1\" class=\"dataframe\">\n",
       "  <thead>\n",
       "    <tr style=\"text-align: right;\">\n",
       "      <th></th>\n",
       "      <th>Sales</th>\n",
       "      <th>Price</th>\n",
       "      <th>Feature</th>\n",
       "      <th>Display</th>\n",
       "      <th>Price - Competitor 1</th>\n",
       "      <th>Price - Competitor 2</th>\n",
       "      <th>Price - Competitor 3</th>\n",
       "      <th>Price - Competitor 4</th>\n",
       "      <th>Price - Competitor 5</th>\n",
       "    </tr>\n",
       "  </thead>\n",
       "  <tbody>\n",
       "    <tr>\n",
       "      <th>0</th>\n",
       "      <td>20</td>\n",
       "      <td>5.690</td>\n",
       "      <td>0</td>\n",
       "      <td>0</td>\n",
       "      <td>4.065</td>\n",
       "      <td>4.108</td>\n",
       "      <td>5.280</td>\n",
       "      <td>4.690</td>\n",
       "      <td>3.290</td>\n",
       "    </tr>\n",
       "    <tr>\n",
       "      <th>1</th>\n",
       "      <td>26</td>\n",
       "      <td>5.968</td>\n",
       "      <td>0</td>\n",
       "      <td>0</td>\n",
       "      <td>4.065</td>\n",
       "      <td>3.775</td>\n",
       "      <td>5.247</td>\n",
       "      <td>3.946</td>\n",
       "      <td>3.490</td>\n",
       "    </tr>\n",
       "    <tr>\n",
       "      <th>2</th>\n",
       "      <td>41</td>\n",
       "      <td>6.190</td>\n",
       "      <td>0</td>\n",
       "      <td>0</td>\n",
       "      <td>4.064</td>\n",
       "      <td>3.421</td>\n",
       "      <td>5.540</td>\n",
       "      <td>3.330</td>\n",
       "      <td>3.690</td>\n",
       "    </tr>\n",
       "    <tr>\n",
       "      <th>3</th>\n",
       "      <td>34</td>\n",
       "      <td>5.780</td>\n",
       "      <td>0</td>\n",
       "      <td>0</td>\n",
       "      <td>4.066</td>\n",
       "      <td>3.510</td>\n",
       "      <td>4.500</td>\n",
       "      <td>3.973</td>\n",
       "      <td>2.172</td>\n",
       "    </tr>\n",
       "    <tr>\n",
       "      <th>4</th>\n",
       "      <td>32</td>\n",
       "      <td>6.190</td>\n",
       "      <td>0</td>\n",
       "      <td>0</td>\n",
       "      <td>4.067</td>\n",
       "      <td>3.402</td>\n",
       "      <td>5.500</td>\n",
       "      <td>2.759</td>\n",
       "      <td>3.690</td>\n",
       "    </tr>\n",
       "  </tbody>\n",
       "</table>\n",
       "</div>"
      ],
      "text/plain": [
       "   Sales  Price  Feature  Display  Price - Competitor 1  Price - Competitor 2  \\\n",
       "0     20  5.690        0        0                 4.065                 4.108   \n",
       "1     26  5.968        0        0                 4.065                 3.775   \n",
       "2     41  6.190        0        0                 4.064                 3.421   \n",
       "3     34  5.780        0        0                 4.066                 3.510   \n",
       "4     32  6.190        0        0                 4.067                 3.402   \n",
       "\n",
       "   Price - Competitor 3  Price - Competitor 4  Price - Competitor 5  \n",
       "0                 5.280                 4.690                 3.290  \n",
       "1                 5.247                 3.946                 3.490  \n",
       "2                 5.540                 3.330                 3.690  \n",
       "3                 4.500                 3.973                 2.172  \n",
       "4                 5.500                 2.759                 3.690  "
      ]
     },
     "execution_count": 62,
     "metadata": {},
     "output_type": "execute_result"
    }
   ],
   "source": [
    "dataset = pd.read_excel('rawdata_MMM (1).xls')\n",
    "dataset.head()"
   ]
  },
  {
   "cell_type": "markdown",
   "metadata": {},
   "source": [
    "# 1. Price, Feature and Display as Independent Variables"
   ]
  },
  {
   "cell_type": "code",
   "execution_count": 63,
   "metadata": {},
   "outputs": [],
   "source": [
    "x = dataset.iloc[:,1:4].values \n",
    "y = dataset.iloc[:,0].values"
   ]
  },
  {
   "cell_type": "code",
   "execution_count": 68,
   "metadata": {},
   "outputs": [
    {
     "data": {
      "text/html": [
       "<div>\n",
       "<style scoped>\n",
       "    .dataframe tbody tr th:only-of-type {\n",
       "        vertical-align: middle;\n",
       "    }\n",
       "\n",
       "    .dataframe tbody tr th {\n",
       "        vertical-align: top;\n",
       "    }\n",
       "\n",
       "    .dataframe thead th {\n",
       "        text-align: right;\n",
       "    }\n",
       "</style>\n",
       "<table border=\"1\" class=\"dataframe\">\n",
       "  <thead>\n",
       "    <tr style=\"text-align: right;\">\n",
       "      <th></th>\n",
       "      <th>Price</th>\n",
       "      <th>Feature</th>\n",
       "      <th>Display</th>\n",
       "    </tr>\n",
       "  </thead>\n",
       "  <tbody>\n",
       "    <tr>\n",
       "      <th>0</th>\n",
       "      <td>5.690</td>\n",
       "      <td>0</td>\n",
       "      <td>0</td>\n",
       "    </tr>\n",
       "    <tr>\n",
       "      <th>1</th>\n",
       "      <td>5.968</td>\n",
       "      <td>0</td>\n",
       "      <td>0</td>\n",
       "    </tr>\n",
       "    <tr>\n",
       "      <th>2</th>\n",
       "      <td>6.190</td>\n",
       "      <td>0</td>\n",
       "      <td>0</td>\n",
       "    </tr>\n",
       "    <tr>\n",
       "      <th>3</th>\n",
       "      <td>5.780</td>\n",
       "      <td>0</td>\n",
       "      <td>0</td>\n",
       "    </tr>\n",
       "    <tr>\n",
       "      <th>4</th>\n",
       "      <td>6.190</td>\n",
       "      <td>0</td>\n",
       "      <td>0</td>\n",
       "    </tr>\n",
       "    <tr>\n",
       "      <th>...</th>\n",
       "      <td>...</td>\n",
       "      <td>...</td>\n",
       "      <td>...</td>\n",
       "    </tr>\n",
       "    <tr>\n",
       "      <th>3233</th>\n",
       "      <td>5.990</td>\n",
       "      <td>0</td>\n",
       "      <td>0</td>\n",
       "    </tr>\n",
       "    <tr>\n",
       "      <th>3234</th>\n",
       "      <td>5.968</td>\n",
       "      <td>0</td>\n",
       "      <td>0</td>\n",
       "    </tr>\n",
       "    <tr>\n",
       "      <th>3235</th>\n",
       "      <td>5.950</td>\n",
       "      <td>0</td>\n",
       "      <td>0</td>\n",
       "    </tr>\n",
       "    <tr>\n",
       "      <th>3236</th>\n",
       "      <td>5.968</td>\n",
       "      <td>0</td>\n",
       "      <td>0</td>\n",
       "    </tr>\n",
       "    <tr>\n",
       "      <th>3237</th>\n",
       "      <td>4.580</td>\n",
       "      <td>1</td>\n",
       "      <td>1</td>\n",
       "    </tr>\n",
       "  </tbody>\n",
       "</table>\n",
       "<p>3238 rows × 3 columns</p>\n",
       "</div>"
      ],
      "text/plain": [
       "      Price  Feature  Display\n",
       "0     5.690        0        0\n",
       "1     5.968        0        0\n",
       "2     6.190        0        0\n",
       "3     5.780        0        0\n",
       "4     6.190        0        0\n",
       "...     ...      ...      ...\n",
       "3233  5.990        0        0\n",
       "3234  5.968        0        0\n",
       "3235  5.950        0        0\n",
       "3236  5.968        0        0\n",
       "3237  4.580        1        1\n",
       "\n",
       "[3238 rows x 3 columns]"
      ]
     },
     "execution_count": 68,
     "metadata": {},
     "output_type": "execute_result"
    }
   ],
   "source": [
    "x = dataset.iloc[:,1:4]\n",
    "x\n"
   ]
  },
  {
   "cell_type": "code",
   "execution_count": 29,
   "metadata": {},
   "outputs": [],
   "source": [
    "from sklearn.model_selection import train_test_split\n",
    "x_train, x_test, y_train, y_test  = train_test_split(x, y, test_size = 0.2, random_state = 0)"
   ]
  },
  {
   "cell_type": "code",
   "execution_count": 30,
   "metadata": {},
   "outputs": [],
   "source": [
    "from sklearn.linear_model import LinearRegression\n",
    "regressor = LinearRegression()\n",
    "result = regressor.fit(x_train, y_train)"
   ]
  },
  {
   "cell_type": "code",
   "execution_count": 31,
   "metadata": {},
   "outputs": [],
   "source": [
    "y_pred = regressor.predict(x_test)"
   ]
  },
  {
   "cell_type": "code",
   "execution_count": 32,
   "metadata": {},
   "outputs": [
    {
     "name": "stdout",
     "output_type": "stream",
     "text": [
      "                            OLS Regression Results                            \n",
      "==============================================================================\n",
      "Dep. Variable:                      y   R-squared:                       0.534\n",
      "Model:                            OLS   Adj. R-squared:                  0.533\n",
      "Method:                 Least Squares   F-statistic:                     986.9\n",
      "Date:                Wed, 19 May 2021   Prob (F-statistic):               0.00\n",
      "Time:                        17:27:08   Log-Likelihood:                -14344.\n",
      "No. Observations:                2590   AIC:                         2.870e+04\n",
      "Df Residuals:                    2586   BIC:                         2.872e+04\n",
      "Df Model:                           3                                         \n",
      "Covariance Type:            nonrobust                                         \n",
      "==============================================================================\n",
      "                 coef    std err          t      P>|t|      [0.025      0.975]\n",
      "------------------------------------------------------------------------------\n",
      "const        305.7395     14.775     20.693      0.000     276.767     334.712\n",
      "x1           -44.1451      2.522    -17.504      0.000     -49.090     -39.200\n",
      "x2            65.0871      3.806     17.101      0.000      57.624      72.550\n",
      "x3           100.5528      4.048     24.839      0.000      92.615     108.491\n",
      "==============================================================================\n",
      "Omnibus:                     2204.301   Durbin-Watson:                   2.035\n",
      "Prob(Omnibus):                  0.000   Jarque-Bera (JB):           114678.245\n",
      "Skew:                           3.725   Prob(JB):                         0.00\n",
      "Kurtosis:                      34.736   Cond. No.                         72.4\n",
      "==============================================================================\n",
      "\n",
      "Warnings:\n",
      "[1] Standard Errors assume that the covariance matrix of the errors is correctly specified.\n"
     ]
    },
    {
     "data": {
      "text/plain": [
       "35.221586037114"
      ]
     },
     "execution_count": 32,
     "metadata": {},
     "output_type": "execute_result"
    }
   ],
   "source": [
    "import statsmodels.api as sm\n",
    "X1 = sm.add_constant(x_train)\n",
    "result = sm.OLS(y_train, X1).fit()\n",
    "print(result.summary())\n",
    "from sklearn.metrics import mean_absolute_error\n",
    "mean_absolute_error(y_test, y_pred)"
   ]
  },
  {
   "cell_type": "markdown",
   "metadata": {},
   "source": [
    "# 2. Price, Feature, Display, Price - Competitor 1, Price - Competitor 2, Price - Competitor 3, Price - Competitor 4  and Price - Competitor 5 as Independent Variable "
   ]
  },
  {
   "cell_type": "code",
   "execution_count": 33,
   "metadata": {},
   "outputs": [],
   "source": [
    "x = dataset.iloc[:,1:9].values \n",
    "y = dataset.iloc[:,0].values"
   ]
  },
  {
   "cell_type": "code",
   "execution_count": 36,
   "metadata": {},
   "outputs": [],
   "source": [
    "from sklearn.model_selection import train_test_split\n",
    "x_train, x_test, y_train, y_test  = train_test_split(x, y, test_size = 0.2, random_state = 0)"
   ]
  },
  {
   "cell_type": "code",
   "execution_count": 37,
   "metadata": {},
   "outputs": [],
   "source": [
    "from sklearn.linear_model import LinearRegression\n",
    "regressor = LinearRegression()\n",
    "result = regressor.fit(x_train, y_train)"
   ]
  },
  {
   "cell_type": "code",
   "execution_count": 38,
   "metadata": {},
   "outputs": [
    {
     "name": "stdout",
     "output_type": "stream",
     "text": [
      "                            OLS Regression Results                            \n",
      "==============================================================================\n",
      "Dep. Variable:                      y   R-squared:                       0.540\n",
      "Model:                            OLS   Adj. R-squared:                  0.538\n",
      "Method:                 Least Squares   F-statistic:                     378.3\n",
      "Date:                Wed, 19 May 2021   Prob (F-statistic):               0.00\n",
      "Time:                        17:27:24   Log-Likelihood:                -14327.\n",
      "No. Observations:                2590   AIC:                         2.867e+04\n",
      "Df Residuals:                    2581   BIC:                         2.873e+04\n",
      "Df Model:                           8                                         \n",
      "Covariance Type:            nonrobust                                         \n",
      "==============================================================================\n",
      "                 coef    std err          t      P>|t|      [0.025      0.975]\n",
      "------------------------------------------------------------------------------\n",
      "const        236.5690     19.546     12.103      0.000     198.241     274.897\n",
      "x1           -45.8067      2.785    -16.449      0.000     -51.267     -40.346\n",
      "x2            65.2724      3.900     16.738      0.000      57.626      72.919\n",
      "x3            97.4603      4.089     23.836      0.000      89.443     105.478\n",
      "x4            10.6982      2.353      4.546      0.000       6.084      15.313\n",
      "x5             3.4948      3.024      1.156      0.248      -2.434       9.424\n",
      "x6             1.9798      2.074      0.955      0.340      -2.086       6.046\n",
      "x7             3.8560      1.938      1.989      0.047       0.055       7.657\n",
      "x8            -1.9662      2.105     -0.934      0.350      -6.093       2.161\n",
      "==============================================================================\n",
      "Omnibus:                     2177.500   Durbin-Watson:                   2.043\n",
      "Prob(Omnibus):                  0.000   Jarque-Bera (JB):           110383.214\n",
      "Skew:                           3.660   Prob(JB):                         0.00\n",
      "Kurtosis:                      34.133   Cond. No.                         183.\n",
      "==============================================================================\n",
      "\n",
      "Warnings:\n",
      "[1] Standard Errors assume that the covariance matrix of the errors is correctly specified.\n"
     ]
    },
    {
     "data": {
      "text/plain": [
       "35.4071725597453"
      ]
     },
     "execution_count": 38,
     "metadata": {},
     "output_type": "execute_result"
    }
   ],
   "source": [
    "y_pred = regressor.predict(x_test)\n",
    "import statsmodels.api as sm\n",
    "X1 = sm.add_constant(x_train)\n",
    "result = sm.OLS(y_train, X1).fit()\n",
    "print(result.summary())\n",
    "from sklearn.metrics import mean_absolute_error\n",
    "mean_absolute_error(y_test, y_pred)"
   ]
  },
  {
   "cell_type": "code",
   "execution_count": 39,
   "metadata": {
    "scrolled": false
   },
   "outputs": [
    {
     "data": {
      "text/plain": [
       "Sales                   1.000000\n",
       "Display                 0.586432\n",
       "Feature                 0.554512\n",
       "Price - Competitor 1    0.076046\n",
       "Price - Competitor 4    0.036951\n",
       "Price - Competitor 2    0.000334\n",
       "Price - Competitor 3   -0.032889\n",
       "Price - Competitor 5   -0.092595\n",
       "Price                  -0.568356\n",
       "Name: Sales, dtype: float64"
      ]
     },
     "execution_count": 39,
     "metadata": {},
     "output_type": "execute_result"
    }
   ],
   "source": [
    "corr_matrix = dataset.corr()\n",
    "corr_matrix[\"Sales\"].sort_values(ascending=False)\n",
    "\n"
   ]
  },
  {
   "cell_type": "code",
   "execution_count": 40,
   "metadata": {},
   "outputs": [
    {
     "data": {
      "text/html": [
       "<div>\n",
       "<style scoped>\n",
       "    .dataframe tbody tr th:only-of-type {\n",
       "        vertical-align: middle;\n",
       "    }\n",
       "\n",
       "    .dataframe tbody tr th {\n",
       "        vertical-align: top;\n",
       "    }\n",
       "\n",
       "    .dataframe thead th {\n",
       "        text-align: right;\n",
       "    }\n",
       "</style>\n",
       "<table border=\"1\" class=\"dataframe\">\n",
       "  <thead>\n",
       "    <tr style=\"text-align: right;\">\n",
       "      <th></th>\n",
       "      <th>Sales</th>\n",
       "      <th>Price</th>\n",
       "      <th>Feature</th>\n",
       "      <th>Display</th>\n",
       "      <th>Price - Competitor 1</th>\n",
       "      <th>Price - Competitor 2</th>\n",
       "      <th>Price - Competitor 3</th>\n",
       "      <th>Price - Competitor 4</th>\n",
       "      <th>Price - Competitor 5</th>\n",
       "    </tr>\n",
       "  </thead>\n",
       "  <tbody>\n",
       "    <tr>\n",
       "      <th>Sales</th>\n",
       "      <td>1.000000</td>\n",
       "      <td>-0.568356</td>\n",
       "      <td>0.554512</td>\n",
       "      <td>0.586432</td>\n",
       "      <td>0.076046</td>\n",
       "      <td>0.000334</td>\n",
       "      <td>-0.032889</td>\n",
       "      <td>0.036951</td>\n",
       "      <td>-0.092595</td>\n",
       "    </tr>\n",
       "    <tr>\n",
       "      <th>Price</th>\n",
       "      <td>-0.568356</td>\n",
       "      <td>1.000000</td>\n",
       "      <td>-0.497054</td>\n",
       "      <td>-0.389744</td>\n",
       "      <td>-0.050772</td>\n",
       "      <td>0.231734</td>\n",
       "      <td>0.245561</td>\n",
       "      <td>0.162864</td>\n",
       "      <td>0.199518</td>\n",
       "    </tr>\n",
       "    <tr>\n",
       "      <th>Feature</th>\n",
       "      <td>0.554512</td>\n",
       "      <td>-0.497054</td>\n",
       "      <td>1.000000</td>\n",
       "      <td>0.395313</td>\n",
       "      <td>-0.064603</td>\n",
       "      <td>0.050296</td>\n",
       "      <td>-0.009739</td>\n",
       "      <td>0.033619</td>\n",
       "      <td>-0.018044</td>\n",
       "    </tr>\n",
       "    <tr>\n",
       "      <th>Display</th>\n",
       "      <td>0.586432</td>\n",
       "      <td>-0.389744</td>\n",
       "      <td>0.395313</td>\n",
       "      <td>1.000000</td>\n",
       "      <td>0.056412</td>\n",
       "      <td>0.083134</td>\n",
       "      <td>0.018152</td>\n",
       "      <td>0.070812</td>\n",
       "      <td>-0.032248</td>\n",
       "    </tr>\n",
       "    <tr>\n",
       "      <th>Price - Competitor 1</th>\n",
       "      <td>0.076046</td>\n",
       "      <td>-0.050772</td>\n",
       "      <td>-0.064603</td>\n",
       "      <td>0.056412</td>\n",
       "      <td>1.000000</td>\n",
       "      <td>-0.057651</td>\n",
       "      <td>0.083894</td>\n",
       "      <td>0.039227</td>\n",
       "      <td>-0.026150</td>\n",
       "    </tr>\n",
       "    <tr>\n",
       "      <th>Price - Competitor 2</th>\n",
       "      <td>0.000334</td>\n",
       "      <td>0.231734</td>\n",
       "      <td>0.050296</td>\n",
       "      <td>0.083134</td>\n",
       "      <td>-0.057651</td>\n",
       "      <td>1.000000</td>\n",
       "      <td>0.376301</td>\n",
       "      <td>0.327280</td>\n",
       "      <td>0.181701</td>\n",
       "    </tr>\n",
       "    <tr>\n",
       "      <th>Price - Competitor 3</th>\n",
       "      <td>-0.032889</td>\n",
       "      <td>0.245561</td>\n",
       "      <td>-0.009739</td>\n",
       "      <td>0.018152</td>\n",
       "      <td>0.083894</td>\n",
       "      <td>0.376301</td>\n",
       "      <td>1.000000</td>\n",
       "      <td>0.212281</td>\n",
       "      <td>0.157006</td>\n",
       "    </tr>\n",
       "    <tr>\n",
       "      <th>Price - Competitor 4</th>\n",
       "      <td>0.036951</td>\n",
       "      <td>0.162864</td>\n",
       "      <td>0.033619</td>\n",
       "      <td>0.070812</td>\n",
       "      <td>0.039227</td>\n",
       "      <td>0.327280</td>\n",
       "      <td>0.212281</td>\n",
       "      <td>1.000000</td>\n",
       "      <td>0.093624</td>\n",
       "    </tr>\n",
       "    <tr>\n",
       "      <th>Price - Competitor 5</th>\n",
       "      <td>-0.092595</td>\n",
       "      <td>0.199518</td>\n",
       "      <td>-0.018044</td>\n",
       "      <td>-0.032248</td>\n",
       "      <td>-0.026150</td>\n",
       "      <td>0.181701</td>\n",
       "      <td>0.157006</td>\n",
       "      <td>0.093624</td>\n",
       "      <td>1.000000</td>\n",
       "    </tr>\n",
       "  </tbody>\n",
       "</table>\n",
       "</div>"
      ],
      "text/plain": [
       "                         Sales     Price   Feature   Display  \\\n",
       "Sales                 1.000000 -0.568356  0.554512  0.586432   \n",
       "Price                -0.568356  1.000000 -0.497054 -0.389744   \n",
       "Feature               0.554512 -0.497054  1.000000  0.395313   \n",
       "Display               0.586432 -0.389744  0.395313  1.000000   \n",
       "Price - Competitor 1  0.076046 -0.050772 -0.064603  0.056412   \n",
       "Price - Competitor 2  0.000334  0.231734  0.050296  0.083134   \n",
       "Price - Competitor 3 -0.032889  0.245561 -0.009739  0.018152   \n",
       "Price - Competitor 4  0.036951  0.162864  0.033619  0.070812   \n",
       "Price - Competitor 5 -0.092595  0.199518 -0.018044 -0.032248   \n",
       "\n",
       "                      Price - Competitor 1  Price - Competitor 2  \\\n",
       "Sales                             0.076046              0.000334   \n",
       "Price                            -0.050772              0.231734   \n",
       "Feature                          -0.064603              0.050296   \n",
       "Display                           0.056412              0.083134   \n",
       "Price - Competitor 1              1.000000             -0.057651   \n",
       "Price - Competitor 2             -0.057651              1.000000   \n",
       "Price - Competitor 3              0.083894              0.376301   \n",
       "Price - Competitor 4              0.039227              0.327280   \n",
       "Price - Competitor 5             -0.026150              0.181701   \n",
       "\n",
       "                      Price - Competitor 3  Price - Competitor 4  \\\n",
       "Sales                            -0.032889              0.036951   \n",
       "Price                             0.245561              0.162864   \n",
       "Feature                          -0.009739              0.033619   \n",
       "Display                           0.018152              0.070812   \n",
       "Price - Competitor 1              0.083894              0.039227   \n",
       "Price - Competitor 2              0.376301              0.327280   \n",
       "Price - Competitor 3              1.000000              0.212281   \n",
       "Price - Competitor 4              0.212281              1.000000   \n",
       "Price - Competitor 5              0.157006              0.093624   \n",
       "\n",
       "                      Price - Competitor 5  \n",
       "Sales                            -0.092595  \n",
       "Price                             0.199518  \n",
       "Feature                          -0.018044  \n",
       "Display                          -0.032248  \n",
       "Price - Competitor 1             -0.026150  \n",
       "Price - Competitor 2              0.181701  \n",
       "Price - Competitor 3              0.157006  \n",
       "Price - Competitor 4              0.093624  \n",
       "Price - Competitor 5              1.000000  "
      ]
     },
     "execution_count": 40,
     "metadata": {},
     "output_type": "execute_result"
    }
   ],
   "source": [
    "dataset.corr()"
   ]
  },
  {
   "cell_type": "markdown",
   "metadata": {},
   "source": [
    "# 2b.  As Price - Competitor 2, Price - Competitor 3 have very less correlation with Sales they are insignificant, After removing these two variables"
   ]
  },
  {
   "cell_type": "code",
   "execution_count": 41,
   "metadata": {},
   "outputs": [
    {
     "name": "stdout",
     "output_type": "stream",
     "text": [
      "      Sales  Price  Feature  Display  Price - Competitor 1  \\\n",
      "0        20  5.690        0        0                 4.065   \n",
      "1        26  5.968        0        0                 4.065   \n",
      "2        41  6.190        0        0                 4.064   \n",
      "3        34  5.780        0        0                 4.066   \n",
      "4        32  6.190        0        0                 4.067   \n",
      "...     ...    ...      ...      ...                   ...   \n",
      "3233     53  5.990        0        0                 4.928   \n",
      "3234     35  5.968        0        0                 4.928   \n",
      "3235    113  5.950        0        0                 4.928   \n",
      "3236    117  5.968        0        0                 4.928   \n",
      "3237    723  4.580        1        1                 4.928   \n",
      "\n",
      "      Price - Competitor 4  Price - Competitor 5  \n",
      "0                    4.690                 3.290  \n",
      "1                    3.946                 3.490  \n",
      "2                    3.330                 3.690  \n",
      "3                    3.973                 2.172  \n",
      "4                    2.759                 3.690  \n",
      "...                    ...                   ...  \n",
      "3233                 4.040                 3.490  \n",
      "3234                 4.041                 3.490  \n",
      "3235                 4.834                 3.490  \n",
      "3236                 4.596                 2.000  \n",
      "3237                 5.090                 3.444  \n",
      "\n",
      "[3238 rows x 7 columns]\n"
     ]
    }
   ],
   "source": [
    "df = pd.DataFrame(dataset)\n",
    "del df['Price - Competitor 2']\n",
    "del df['Price - Competitor 3']\n",
    "print(df)"
   ]
  },
  {
   "cell_type": "code",
   "execution_count": 42,
   "metadata": {},
   "outputs": [],
   "source": [
    "x = df.iloc[:,1:7].values \n",
    "y = dataset.iloc[:,0].values"
   ]
  },
  {
   "cell_type": "code",
   "execution_count": 45,
   "metadata": {},
   "outputs": [],
   "source": [
    "from sklearn.model_selection import train_test_split\n",
    "x_train, x_test, y_train, y_test  = train_test_split(x, y, test_size = 0.3, random_state = 0)"
   ]
  },
  {
   "cell_type": "code",
   "execution_count": 46,
   "metadata": {},
   "outputs": [],
   "source": [
    "from sklearn.linear_model import LinearRegression\n",
    "regressor = LinearRegression()\n",
    "result = regressor.fit(x_train, y_train)"
   ]
  },
  {
   "cell_type": "code",
   "execution_count": 47,
   "metadata": {},
   "outputs": [
    {
     "name": "stdout",
     "output_type": "stream",
     "text": [
      "                            OLS Regression Results                            \n",
      "==============================================================================\n",
      "Dep. Variable:                      y   R-squared:                       0.538\n",
      "Model:                            OLS   Adj. R-squared:                  0.537\n",
      "Method:                 Least Squares   F-statistic:                     438.8\n",
      "Date:                Wed, 19 May 2021   Prob (F-statistic):               0.00\n",
      "Time:                        17:29:43   Log-Likelihood:                -12586.\n",
      "No. Observations:                2266   AIC:                         2.519e+04\n",
      "Df Residuals:                    2259   BIC:                         2.523e+04\n",
      "Df Model:                           6                                         \n",
      "Covariance Type:            nonrobust                                         \n",
      "==============================================================================\n",
      "                 coef    std err          t      P>|t|      [0.025      0.975]\n",
      "------------------------------------------------------------------------------\n",
      "const        254.1949     20.629     12.322      0.000     213.741     294.649\n",
      "x1           -46.7081      2.940    -15.890      0.000     -52.473     -40.944\n",
      "x2            66.5498      4.206     15.821      0.000      58.301      74.798\n",
      "x3            96.8552      4.410     21.962      0.000      88.207     105.504\n",
      "x4            11.7562      2.533      4.642      0.000       6.790      16.723\n",
      "x5             5.5426      2.052      2.701      0.007       1.518       9.567\n",
      "x6            -2.1018      2.274     -0.924      0.356      -6.562       2.359\n",
      "==============================================================================\n",
      "Omnibus:                     1937.795   Durbin-Watson:                   2.034\n",
      "Prob(Omnibus):                  0.000   Jarque-Bera (JB):            98674.224\n",
      "Skew:                           3.747   Prob(JB):                         0.00\n",
      "Kurtosis:                      34.447   Cond. No.                         141.\n",
      "==============================================================================\n",
      "\n",
      "Warnings:\n",
      "[1] Standard Errors assume that the covariance matrix of the errors is correctly specified.\n"
     ]
    },
    {
     "data": {
      "text/plain": [
       "34.64897402215289"
      ]
     },
     "execution_count": 47,
     "metadata": {},
     "output_type": "execute_result"
    }
   ],
   "source": [
    "y_pred = regressor.predict(x_test)\n",
    "import statsmodels.api as sm\n",
    "X1 = sm.add_constant(x_train)\n",
    "result = sm.OLS(y_train, X1).fit()\n",
    "print(result.summary())\n",
    "from sklearn.metrics import mean_absolute_error\n",
    "mean_absolute_error(y_test, y_pred)"
   ]
  },
  {
   "cell_type": "markdown",
   "metadata": {},
   "source": [
    "# 3. Three new variables (interaction variables) – Feature*Display, Price*Feature, Price*Display and model 2b variables as Independent Variable"
   ]
  },
  {
   "cell_type": "code",
   "execution_count": 48,
   "metadata": {},
   "outputs": [
    {
     "name": "stdout",
     "output_type": "stream",
     "text": [
      "      Sales  Price  Feature  Display  Price - Competitor 1  \\\n",
      "0        20  5.690        0        0                 4.065   \n",
      "1        26  5.968        0        0                 4.065   \n",
      "2        41  6.190        0        0                 4.064   \n",
      "3        34  5.780        0        0                 4.066   \n",
      "4        32  6.190        0        0                 4.067   \n",
      "...     ...    ...      ...      ...                   ...   \n",
      "3233     53  5.990        0        0                 4.928   \n",
      "3234     35  5.968        0        0                 4.928   \n",
      "3235    113  5.950        0        0                 4.928   \n",
      "3236    117  5.968        0        0                 4.928   \n",
      "3237    723  4.580        1        1                 4.928   \n",
      "\n",
      "      Price - Competitor 4  Price - Competitor 5  Feature_Display  \\\n",
      "0                    4.690                 3.290                0   \n",
      "1                    3.946                 3.490                0   \n",
      "2                    3.330                 3.690                0   \n",
      "3                    3.973                 2.172                0   \n",
      "4                    2.759                 3.690                0   \n",
      "...                    ...                   ...              ...   \n",
      "3233                 4.040                 3.490                0   \n",
      "3234                 4.041                 3.490                0   \n",
      "3235                 4.834                 3.490                0   \n",
      "3236                 4.596                 2.000                0   \n",
      "3237                 5.090                 3.444                1   \n",
      "\n",
      "      Price_Feature  Price_Display  \n",
      "0              0.00           0.00  \n",
      "1              0.00           0.00  \n",
      "2              0.00           0.00  \n",
      "3              0.00           0.00  \n",
      "4              0.00           0.00  \n",
      "...             ...            ...  \n",
      "3233           0.00           0.00  \n",
      "3234           0.00           0.00  \n",
      "3235           0.00           0.00  \n",
      "3236           0.00           0.00  \n",
      "3237           4.58           4.58  \n",
      "\n",
      "[3238 rows x 10 columns]\n"
     ]
    }
   ],
   "source": [
    " \n",
    "df['Feature_Display'] = df.Feature * df.Display\n",
    "df['Price_Feature'] = df.Price * df.Feature\n",
    "df['Price_Display'] = df.Price * df.Display\n",
    "print(df)"
   ]
  },
  {
   "cell_type": "code",
   "execution_count": 49,
   "metadata": {},
   "outputs": [],
   "source": [
    "x = df.iloc[:,1:10].values \n",
    "y = dataset.iloc[:,0].values"
   ]
  },
  {
   "cell_type": "code",
   "execution_count": 52,
   "metadata": {},
   "outputs": [],
   "source": [
    " from sklearn.model_selection import train_test_split\n",
    "x_train, x_test, y_train, y_test  = train_test_split(x, y, test_size = 0.3, random_state = 0)"
   ]
  },
  {
   "cell_type": "code",
   "execution_count": 53,
   "metadata": {},
   "outputs": [],
   "source": [
    "from sklearn.linear_model import LinearRegression\n",
    "regressor = LinearRegression()\n",
    "result = regressor.fit(x_train, y_train)"
   ]
  },
  {
   "cell_type": "code",
   "execution_count": 54,
   "metadata": {},
   "outputs": [
    {
     "name": "stdout",
     "output_type": "stream",
     "text": [
      "                            OLS Regression Results                            \n",
      "==============================================================================\n",
      "Dep. Variable:                      y   R-squared:                       0.640\n",
      "Model:                            OLS   Adj. R-squared:                  0.638\n",
      "Method:                 Least Squares   F-statistic:                     445.1\n",
      "Date:                Wed, 19 May 2021   Prob (F-statistic):               0.00\n",
      "Time:                        17:29:57   Log-Likelihood:                -12304.\n",
      "No. Observations:                2266   AIC:                         2.463e+04\n",
      "Df Residuals:                    2256   BIC:                         2.469e+04\n",
      "Df Model:                           9                                         \n",
      "Covariance Type:            nonrobust                                         \n",
      "==============================================================================\n",
      "                 coef    std err          t      P>|t|      [0.025      0.975]\n",
      "------------------------------------------------------------------------------\n",
      "const        124.5087     19.795      6.290      0.000      85.691     163.327\n",
      "x1           -24.3894      2.874     -8.485      0.000     -30.026     -18.753\n",
      "x2           404.8284     39.456     10.260      0.000     327.455     482.202\n",
      "x3           564.0573     42.730     13.200      0.000     480.263     647.852\n",
      "x4            10.9049      2.241      4.866      0.000       6.510      15.300\n",
      "x5             6.8043      1.826      3.727      0.000       3.224      10.384\n",
      "x6            -1.8773      2.011     -0.934      0.351      -5.820       2.065\n",
      "x7            42.6353      8.417      5.065      0.000      26.129      59.141\n",
      "x8           -68.2044      7.474     -9.125      0.000     -82.862     -53.547\n",
      "x9           -94.4424      7.818    -12.079      0.000    -109.775     -79.110\n",
      "==============================================================================\n",
      "Omnibus:                     1371.945   Durbin-Watson:                   2.010\n",
      "Prob(Omnibus):                  0.000   Jarque-Bera (JB):            35856.588\n",
      "Skew:                           2.381   Prob(JB):                         0.00\n",
      "Kurtosis:                      21.897   Cond. No.                         384.\n",
      "==============================================================================\n",
      "\n",
      "Warnings:\n",
      "[1] Standard Errors assume that the covariance matrix of the errors is correctly specified.\n"
     ]
    },
    {
     "data": {
      "text/plain": [
       "32.74595986243405"
      ]
     },
     "execution_count": 54,
     "metadata": {},
     "output_type": "execute_result"
    }
   ],
   "source": [
    "y_pred = regressor.predict(x_test)\n",
    "import statsmodels.api as sm\n",
    "X1 = sm.add_constant(x_train)\n",
    "result = sm.OLS(y_train, X1).fit()\n",
    "print(result.summary())\n",
    "mean_absolute_error(y_test, y_pred)"
   ]
  },
  {
   "cell_type": "code",
   "execution_count": null,
   "metadata": {},
   "outputs": [],
   "source": []
  },
  {
   "cell_type": "code",
   "execution_count": 55,
   "metadata": {},
   "outputs": [
    {
     "name": "stdout",
     "output_type": "stream",
     "text": [
      "      Sales  Price  Feature  Display  Price - Competitor 1  \\\n",
      "0        20  5.690        0        0                 4.065   \n",
      "1        26  5.968        0        0                 4.065   \n",
      "2        41  6.190        0        0                 4.064   \n",
      "3        34  5.780        0        0                 4.066   \n",
      "4        32  6.190        0        0                 4.067   \n",
      "...     ...    ...      ...      ...                   ...   \n",
      "3233     53  5.990        0        0                 4.928   \n",
      "3234     35  5.968        0        0                 4.928   \n",
      "3235    113  5.950        0        0                 4.928   \n",
      "3236    117  5.968        0        0                 4.928   \n",
      "3237    723  4.580        1        1                 4.928   \n",
      "\n",
      "      Price - Competitor 4  Price - Competitor 5  Feature_Display  \\\n",
      "0                    4.690                 3.290                0   \n",
      "1                    3.946                 3.490                0   \n",
      "2                    3.330                 3.690                0   \n",
      "3                    3.973                 2.172                0   \n",
      "4                    2.759                 3.690                0   \n",
      "...                    ...                   ...              ...   \n",
      "3233                 4.040                 3.490                0   \n",
      "3234                 4.041                 3.490                0   \n",
      "3235                 4.834                 3.490                0   \n",
      "3236                 4.596                 2.000                0   \n",
      "3237                 5.090                 3.444                1   \n",
      "\n",
      "      Price_Feature  Price_Display  Price_Feature_Display  \n",
      "0              0.00           0.00                   0.00  \n",
      "1              0.00           0.00                   0.00  \n",
      "2              0.00           0.00                   0.00  \n",
      "3              0.00           0.00                   0.00  \n",
      "4              0.00           0.00                   0.00  \n",
      "...             ...            ...                    ...  \n",
      "3233           0.00           0.00                   0.00  \n",
      "3234           0.00           0.00                   0.00  \n",
      "3235           0.00           0.00                   0.00  \n",
      "3236           0.00           0.00                   0.00  \n",
      "3237           4.58           4.58                   4.58  \n",
      "\n",
      "[3238 rows x 11 columns]\n"
     ]
    }
   ],
   "source": [
    " \n",
    "df['Feature_Display'] = df.Feature * df.Display\n",
    "df['Price_Feature'] = df.Price * df.Feature\n",
    "df['Price_Display'] = df.Price * df.Display\n",
    "df['Price_Feature_Display']=df.Price * df.Feature * df.Display\n",
    "print(df)"
   ]
  },
  {
   "cell_type": "code",
   "execution_count": 56,
   "metadata": {},
   "outputs": [],
   "source": [
    "x = df.iloc[:,1:11].values \n",
    "y = dataset.iloc[:,0].values"
   ]
  },
  {
   "cell_type": "code",
   "execution_count": 59,
   "metadata": {},
   "outputs": [],
   "source": [
    " from sklearn.model_selection import train_test_split\n",
    "x_train, x_test, y_train, y_test  = train_test_split(x, y, test_size = 0.3, random_state = 0)"
   ]
  },
  {
   "cell_type": "code",
   "execution_count": 60,
   "metadata": {},
   "outputs": [],
   "source": [
    "from sklearn.linear_model import LinearRegression\n",
    "regressor = LinearRegression()\n",
    "result = regressor.fit(x_train, y_train)"
   ]
  },
  {
   "cell_type": "code",
   "execution_count": 61,
   "metadata": {},
   "outputs": [
    {
     "name": "stdout",
     "output_type": "stream",
     "text": [
      "                            OLS Regression Results                            \n",
      "==============================================================================\n",
      "Dep. Variable:                      y   R-squared:                       0.648\n",
      "Model:                            OLS   Adj. R-squared:                  0.646\n",
      "Method:                 Least Squares   F-statistic:                     414.4\n",
      "Date:                Wed, 19 May 2021   Prob (F-statistic):               0.00\n",
      "Time:                        17:30:11   Log-Likelihood:                -12279.\n",
      "No. Observations:                2266   AIC:                         2.458e+04\n",
      "Df Residuals:                    2255   BIC:                         2.464e+04\n",
      "Df Model:                          10                                         \n",
      "Covariance Type:            nonrobust                                         \n",
      "==============================================================================\n",
      "                 coef    std err          t      P>|t|      [0.025      0.975]\n",
      "------------------------------------------------------------------------------\n",
      "const        149.5393     19.898      7.515      0.000     110.520     188.559\n",
      "x1           -27.5170      2.878     -9.563      0.000     -33.160     -21.874\n",
      "x2           212.6844     47.515      4.476      0.000     119.506     305.863\n",
      "x3           319.4101     54.563      5.854      0.000     212.411     426.409\n",
      "x4            10.4225      2.218      4.699      0.000       6.073      14.772\n",
      "x5             6.3172      1.807      3.495      0.000       2.773       9.861\n",
      "x6            -2.7560      1.993     -1.383      0.167      -6.664       1.152\n",
      "x7           622.5355     82.202      7.573      0.000     461.336     783.735\n",
      "x8           -31.5988      9.018     -3.504      0.000     -49.283     -13.915\n",
      "x9           -49.2681     10.020     -4.917      0.000     -68.918     -29.618\n",
      "x10         -111.6737     15.749     -7.091      0.000    -142.557     -80.791\n",
      "==============================================================================\n",
      "Omnibus:                     1291.052   Durbin-Watson:                   1.998\n",
      "Prob(Omnibus):                  0.000   Jarque-Bera (JB):            29868.978\n",
      "Skew:                           2.220   Prob(JB):                         0.00\n",
      "Kurtosis:                      20.223   Cond. No.                         757.\n",
      "==============================================================================\n",
      "\n",
      "Warnings:\n",
      "[1] Standard Errors assume that the covariance matrix of the errors is correctly specified.\n"
     ]
    },
    {
     "data": {
      "text/plain": [
       "32.23465747423594"
      ]
     },
     "execution_count": 61,
     "metadata": {},
     "output_type": "execute_result"
    }
   ],
   "source": [
    "y_pred = regressor.predict(x_test)\n",
    "import statsmodels.api as sm\n",
    "X1 = sm.add_constant(x_train)\n",
    "result = sm.OLS(y_train, X1).fit()\n",
    "print(result.summary())\n",
    "mean_absolute_error(y_test, y_pred)"
   ]
  },
  {
   "cell_type": "code",
   "execution_count": null,
   "metadata": {},
   "outputs": [],
   "source": []
  },
  {
   "cell_type": "code",
   "execution_count": null,
   "metadata": {},
   "outputs": [],
   "source": []
  },
  {
   "cell_type": "code",
   "execution_count": null,
   "metadata": {},
   "outputs": [],
   "source": []
  }
 ],
 "metadata": {
  "kernelspec": {
   "display_name": "Python 3",
   "language": "python",
   "name": "python3"
  },
  "language_info": {
   "codemirror_mode": {
    "name": "ipython",
    "version": 3
   },
   "file_extension": ".py",
   "mimetype": "text/x-python",
   "name": "python",
   "nbconvert_exporter": "python",
   "pygments_lexer": "ipython3",
   "version": "3.8.3"
  }
 },
 "nbformat": 4,
 "nbformat_minor": 2
}
